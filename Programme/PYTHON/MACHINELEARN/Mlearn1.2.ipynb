{
 "cells": [
  {
   "cell_type": "code",
   "execution_count": null,
   "id": "df80a617",
   "metadata": {},
   "outputs": [],
   "source": [
    "import pandas as pd\n",
    "from sklearn.tree import DecisionTreeClassifier as dtc\n",
    "import joblib # Speichern und Modellieren von Modellen.\n",
    "\n",
    "# Hier wird die read_csv Funktion verwendet. Sie ist dazu da um Daten aus einer csv-Datei in ein pandas DataFrame namens music_data einzulesen.\n",
    "music_data = pd.read_csv('music.csv')\n",
    "\n",
    "# Enfernen von Parametern, wie age, gender und genre mit .drop und column\n",
    "X = music_data.drop(columns=['genre'])\n",
    "\n",
    "# Hier wird eine Pandas Series Name erstellt mit den Namen (Y). Y enthält die Zielvariable oder die Abhängige Variable, die vorhergesagt werden soll(z.B. die Musikgenre).\n",
    "Y = music_data['genre'] \n",
    "\n",
    "# Erstellen einer Instanz des DecisionTreeClassifier um ihn in der Variable model zu speichern.\n",
    "model = dtc()\n",
    "\n",
    "# .fit() des model-Objekts lernt die Beziehungen zwischen den Merkmalen in X und den entsprechenden Genre in Y\n",
    "model.fit(X, Y)\n",
    "\n",
    "joblib.dump(model, 'music-recommender.joblib')\n",
    "\n",
    "# predictions = model.predict([[21, 1]])\n",
    "\n"
   ]
  },
  {
   "cell_type": "code",
   "execution_count": null,
   "id": "b9503cfa",
   "metadata": {},
   "outputs": [],
   "source": [
    "model = joblib.load('music-recommender.joblib')\n",
    "predictions = model.predict([[21, 1]])\n",
    "predictions"
   ]
  },
  {
   "cell_type": "code",
   "execution_count": 11,
   "id": "16863440",
   "metadata": {},
   "outputs": [],
   "source": [
    "from cProfile import label\n",
    "from decimal import Rounded\n",
    "from sklearn import tree\n",
    "\n",
    "music_data = pd.read_csv('music.csv')\n",
    "\n",
    "X = music_data.drop(columns=['genre'])\n",
    "Y = music_data['genre'] \n",
    "\n",
    "model = dtc()\n",
    "model.fit(X, Y)\n",
    "\n",
    "tree.export_graphviz(model, out_file='music-recommender.dot', \n",
    "                     feature_names=['age', 'gender'], \n",
    "                     class_names=sorted(Y.unique()), \n",
    "                     label='all',\n",
    "                     rounded=True,\n",
    "                     filled=True)"
   ]
  }
 ],
 "metadata": {
  "kernelspec": {
   "display_name": "Python 3",
   "language": "python",
   "name": "python3"
  },
  "language_info": {
   "codemirror_mode": {
    "name": "ipython",
    "version": 3
   },
   "file_extension": ".py",
   "mimetype": "text/x-python",
   "name": "python",
   "nbconvert_exporter": "python",
   "pygments_lexer": "ipython3",
   "version": "3.13.2"
  }
 },
 "nbformat": 4,
 "nbformat_minor": 5
}
