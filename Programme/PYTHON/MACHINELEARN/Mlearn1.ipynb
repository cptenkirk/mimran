{
 "cells": [
  {
   "cell_type": "code",
   "execution_count": null,
   "id": "ec84fdf9",
   "metadata": {},
   "outputs": [],
   "source": [
    "import pandas as pd\n",
    "\n",
    "df = pd.read_csv('C:/Users/cpten/OneDrive - WBSEDU/Bausteine/PYTHON/MACHINELEARN/vgsales.csv')\n",
    "\n",
    "print(df)\n",
    "print(df.shape)"
   ]
  },
  {
   "cell_type": "code",
   "execution_count": null,
   "id": "27fccb5e",
   "metadata": {},
   "outputs": [],
   "source": [
    "print(df.describe()) # Ausgabe der Segmente"
   ]
  },
  {
   "cell_type": "code",
   "execution_count": null,
   "id": "25b6484e",
   "metadata": {},
   "outputs": [],
   "source": [
    "print(df.values)"
   ]
  },
  {
   "cell_type": "code",
   "execution_count": 62,
   "id": "0e1d3096",
   "metadata": {},
   "outputs": [
    {
     "data": {
      "text/plain": [
       "0.4"
      ]
     },
     "execution_count": 62,
     "metadata": {},
     "output_type": "execute_result"
    }
   ],
   "source": [
    "# pyexpat ist ein Modul in der Python-Standardbibliothek, das zum Parsen von xml-Datein verwendet wird. Parsen steht für Maschinenlesbare Daten analysieren, segmentieren und codieren.\n",
    "from pyexpat import model \n",
    "\n",
    "\n",
    "# DecisionTreeClassifier Ist ein Entscheidungsbaum-Kalssifikator aus dem Libary scikit-learn(sklearn) um das Genre von Musikstücken \n",
    "# basierend auf anderen Merkmalen vorherzusagen. Sie ist ein Algorithmus für überwachtes lernen, der verwendet werden kann, um Datenpunkte in verschiedenen Klassen zu kategarisieren,\n",
    "# in dem eine Reihe von Entscheidungsregeln (in  Form eines Baumes) erstellt werden.\n",
    "from sklearn.tree import DecisionTreeClassifier as dtc \n",
    "from sklearn.model_selection import train_test_split as tts\n",
    "from sklearn.metrics import accuracy_score as accus\n",
    "\n",
    "# Hier wird die read_csv Funktion verwendet. Sie ist dazu da um Daten aus einer csv-Datei in ein pandas DataFrame namens music_data einzulesen.\n",
    "music_data = pd.read_csv('music.csv')\n",
    "\n",
    "# Enfernen von Parametern, wie age, gender und genre mit .drop und column\n",
    "X = music_data.drop(columns=['genre'])\n",
    "\n",
    "# Hier wird eine Pandas Series Name erstellt mit den Namen (Y). Y enthält die Zielvariable oder die Abhängige Variable, die vorhergesagt werden soll(z.B. die Musikgenre).\n",
    "Y = music_data['genre'] \n",
    "\n",
    "\n",
    "X_train, X_test, Y_train, Y_test = tts (X,Y, test_size=0.8)\n",
    "\n",
    "# Erstellen einer Instanz des DecisionTreeClassifier um ihn in der Variable model zu speichern.\n",
    "model = dtc()\n",
    "\n",
    "# .fit() des model-Objekts lernt die Beziehungen zwischen den Merkmalen in X und den entsprechenden Genre in Y\n",
    "model.fit(X_train, Y_train)\n",
    "\"\"\" music_data # DataFrame Ausgabe. \"\"\"\n",
    "predictions = model.predict(X_test)\n",
    "\n",
    "score = accus(Y_test, predictions)\n",
    "score"
   ]
  }
 ],
 "metadata": {
  "kernelspec": {
   "display_name": "Python 3",
   "language": "python",
   "name": "python3"
  },
  "language_info": {
   "codemirror_mode": {
    "name": "ipython",
    "version": 3
   },
   "file_extension": ".py",
   "mimetype": "text/x-python",
   "name": "python",
   "nbconvert_exporter": "python",
   "pygments_lexer": "ipython3",
   "version": "3.13.2"
  }
 },
 "nbformat": 4,
 "nbformat_minor": 5
}
